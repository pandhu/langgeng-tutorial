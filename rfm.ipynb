{
 "cells": [
  {
   "cell_type": "code",
   "execution_count": null,
   "metadata": {},
   "outputs": [],
   "source": [
    "import pandas as pd\n",
    "import os\n",
    "import warnings\n",
    "import seaborn as sns\n",
    "\n",
    "warnings.filterwarnings('ignore')"
   ]
  },
  {
   "cell_type": "markdown",
   "metadata": {},
   "source": [
    "## Data Input\n",
    "\n",
    "1. Buat folder **import**\n",
    "2. Masukkan file data yang ingin diinput ke dalam folder **import**\n",
    "3. Kita akan memasukkan semua data pada folder **import** ke dalam satu **DataFrame**\n",
    "   **DataFrame** adalah objek tabel dalam pandas-python ini serupa dengan spreadsheet pada excel"
   ]
  },
  {
   "cell_type": "code",
   "execution_count": null,
   "metadata": {},
   "outputs": [],
   "source": [
    "data = pd.DataFrame()\n",
    "\n",
    "for file in os.listdir(\"import\"):\n",
    "    file_location = \"import/\"+file\n",
    "    tables = pd.read_html(file_location, header=1, converters={\"Kode Destinasi\": str})\n",
    "    data = pd.concat([data, tables[0]])\n",
    "data"
   ]
  },
  {
   "cell_type": "markdown",
   "metadata": {},
   "source": [
    "## Data Preprocessing\n",
    "Data preprocessing yang akan kita lakukan adalah\n",
    "1. Mengambil Kolom data yang diperlukan saja\n",
    "   Kolom yang akan kita ambil **[\"Kode Destinasi\",\"Id Order\", \"Tanggal\", \"Pcs\", \"Nominal Transaksi\", \"Detail Pesanan\", \"Nama Penerima\", \"Alamat Lengkap\"]**\n",
    "2. Rename nama kolom\n",
    "3. Mengubah tipe data\n",
    "4. Membersihkan format nama\n",
    "5. Membersihkan format nomor HP\n",
    "6. Membersihkan data item\n",
    "7. Membersihkan data pcs\n",
    "8. Membersihkan data grand total\n",
    "9. Set phone number sebagai customer id"
   ]
  },
  {
   "cell_type": "markdown",
   "metadata": {},
   "source": [
    "### Mengambil kolom data yang diperlukan"
   ]
  },
  {
   "cell_type": "code",
   "execution_count": null,
   "metadata": {},
   "outputs": [],
   "source": [
    "data = data[[\"Kode Destinasi\",\"Id Order\", \"Tanggal\", \"Pcs\", \"Nominal Transaksi\", \"Detail Pesanan\", \"Nama Penerima\", \"Alamat Lengkap\"]]\n",
    "data"
   ]
  },
  {
   "cell_type": "markdown",
   "metadata": {},
   "source": [
    "### Rename nama kolom"
   ]
  },
  {
   "cell_type": "code",
   "execution_count": null,
   "metadata": {},
   "outputs": [],
   "source": [
    "data = data.rename(columns={\n",
    "    \"Kode Destinasi\": \"phone\", \n",
    "    \"Tanggal\": \"order_date\", \n",
    "    \"Id Order\":\"order_id\",\n",
    "    \"Pcs\": \"order_size\",\n",
    "    \"Nominal Transaksi\":\"grand_total\",\n",
    "    \"Detail Pesanan\": \"item\",\n",
    "    \"Nama Penerima\": \"name\",\n",
    "    \"Alamat Lengkap\": \"address\"})\n",
    "\n",
    "data"
   ]
  },
  {
   "cell_type": "markdown",
   "metadata": {},
   "source": [
    "### Mengubah tipe data"
   ]
  },
  {
   "cell_type": "code",
   "execution_count": null,
   "metadata": {},
   "outputs": [],
   "source": [
    "retention_data = data\n",
    "\n",
    "retention_data[\"order_date\"] = pd.to_datetime(retention_data[\"order_date\"], dayfirst=True).dt.date\n",
    "retention_data['order_date'] = pd.to_datetime(retention_data['order_date'])\n",
    "\n",
    "retention_data"
   ]
  },
  {
   "cell_type": "markdown",
   "metadata": {},
   "source": [
    "### Membersihkan format Nama"
   ]
  },
  {
   "cell_type": "code",
   "execution_count": null,
   "metadata": {},
   "outputs": [],
   "source": [
    "import re\n",
    "\n",
    "def name_cleansing(x):\n",
    "    x = x.lower()\n",
    "    list_of_title = [\n",
    "        \"ibu \", \"bu \", \"hj \", \"h \", \"bpk \", \"pak \", \"pa \", \"bapak \", \"hj. \", \"h. \", \"a \", \"bpk. \", \"l \", \"lik \", \"i \", \"wayan \", \"m \", \"m.\"\n",
    "    ]\n",
    "    regex = re.compile('|'.join(map(re.escape, list_of_title)))\n",
    "    result = regex.sub(\"\", str(x))\n",
    "    \n",
    "    return result.lstrip().title() \n",
    "\n",
    "retention_data[\"clean_name\"] = retention_data[\"name\"].str.replace('^\\d+\\s+', '')\n",
    "retention_data[\"clean_name\"] = retention_data[\"clean_name\"].apply(lambda x: name_cleansing(str(x)))\n",
    "retention_data"
   ]
  },
  {
   "cell_type": "markdown",
   "metadata": {},
   "source": [
    "### Membersihkan format nomor HP"
   ]
  },
  {
   "cell_type": "code",
   "execution_count": null,
   "metadata": {},
   "outputs": [],
   "source": [
    "def normalize_phone(x):\n",
    "    if x[0:1] == \"+\":\n",
    "        return x[1:]\n",
    "    if x[0:1] == \"0\":\n",
    "        return \"62\"+x[1:]\n",
    "    if x[0:1] == \"8\":\n",
    "        return \"62\"+x\n",
    "    return x\n",
    "\n",
    "retention_data[\"normalized_phone\"] = retention_data[\"phone\"].apply(lambda x: normalize_phone(str(x)))\n",
    "retention_data"
   ]
  },
  {
   "cell_type": "markdown",
   "metadata": {},
   "source": [
    "### Membersihkan data item"
   ]
  },
  {
   "cell_type": "code",
   "execution_count": null,
   "metadata": {},
   "outputs": [],
   "source": [
    "retention_data[\"item\"] = retention_data[\"item\"].str.replace('^\\d+\\s+', '') ## replace numeric dengan empty string\n",
    "retention_data"
   ]
  },
  {
   "cell_type": "markdown",
   "metadata": {},
   "source": [
    "### Membersihkan data pcs"
   ]
  },
  {
   "cell_type": "code",
   "execution_count": null,
   "metadata": {},
   "outputs": [],
   "source": [
    "retention_data[\"order_size\"] = retention_data[\"order_size\"].str.replace('[^0-9]', '') ## replace non numeric dengan empty string\n",
    "retention_data"
   ]
  },
  {
   "cell_type": "code",
   "execution_count": null,
   "metadata": {},
   "outputs": [],
   "source": [
    "retention_data[\"grand_total\"] = retention_data[\"grand_total\"].str.replace('[^0-9]', '').astype(int)\n",
    "retention_data"
   ]
  },
  {
   "cell_type": "markdown",
   "metadata": {},
   "source": [
    "### Set Phone Number sebagai customer id"
   ]
  },
  {
   "cell_type": "code",
   "execution_count": null,
   "metadata": {},
   "outputs": [],
   "source": [
    "retention_data[\"customer\"] = retention_data[\"phone\"].apply(lambda x: normalize_phone(str(x)))\n",
    "retention_data"
   ]
  },
  {
   "cell_type": "markdown",
   "metadata": {},
   "source": [
    "## Data Processing\n",
    "\n",
    "Pada data processing kali ini kita akan membuat RFM Tabel dan RFM Class yang perlu dilakukan adalah\n",
    "1. Membuat RFM tabel menggunakan data agregat\n",
    "   a. max order date sebagai recency\n",
    "   b. banyaknya order sebagai frequency\n",
    "   c. jumlah grand_total sebagai monetary\n",
    "2. Membuat klasifikasi RFM\n",
    "    "
   ]
  },
  {
   "cell_type": "markdown",
   "metadata": {},
   "source": [
    "### Membuat RFM Tabel"
   ]
  },
  {
   "cell_type": "code",
   "execution_count": null,
   "metadata": {},
   "outputs": [],
   "source": [
    "import datetime as dt\n",
    "NOW = retention_data[\"order_date\"].max() ### ambil tanggal order terakhir sebagai tanggal hari ini\n",
    "\n",
    "rfmTable = retention_data.groupby('customer').agg({'order_date': lambda x: (x.max() - NOW).days, # Recency\n",
    "                                        'order_id': lambda x: len(x),      # Frequency\n",
    "                                        'grand_total': lambda x: x.sum()}) # Monetary Value\n",
    "\n",
    "rfmTable['order_date'] = rfmTable['order_date'].astype(int)\n",
    "rfmTable.rename(columns={'order_date': 'recency', \n",
    "                         'order_id': 'frequency', \n",
    "                         'grand_total': 'monetary_value'}, inplace=True)\n",
    "\n",
    "rfmTable.sort_values(by=[\"frequency\"], ascending=False).head() ## check rfmTable"
   ]
  },
  {
   "cell_type": "markdown",
   "metadata": {},
   "source": [
    "### Membuat klasifikasi RFM\n",
    "Kita akan membuat kategori/kelas untuk tiap attribut recency, frequency, dan monetery_value.\n",
    "Metode yang digunakan untuk kelas recency dan monetery value adalah dengan menggunakan kuantil. Kita akan membagi data recency dan monetery ke dalam 5 kelas berdasarkan kuantil.\n",
    "\n",
    "Sedangkan untuk frequency kita akan menggunakan ketegorisasi seperti ini\n",
    "1. Jika frequency pembelian adalah 1 maka kita beri dia kelas 1\n",
    "2. Jika frequency pembelian adalah 2 maka kita beri dia kelas 2\n",
    "3. Jika frequency pembelian adalah 3 maka kita beri dia kelas 3\n",
    "4. Jika frequency pembelian adalah 4 maka kita beri dia kelas 4\n",
    "5. Jika frequency pembelian adalah 5 atau lebih maka kita beri dia kelas 5"
   ]
  },
  {
   "cell_type": "code",
   "execution_count": null,
   "metadata": {},
   "outputs": [],
   "source": [
    "def FClassMap(x):\n",
    "    class_map = {\n",
    "    1: 1,\n",
    "    2: 2,\n",
    "    3: 3,\n",
    "    4: 4,\n",
    "    \"other\": 5 \n",
    "}\n",
    "    if x in class_map:\n",
    "        return class_map[x]\n",
    "    else:\n",
    "        return class_map[\"other\"]\n",
    "\n",
    "rfmSegmentation = rfmTable.copy()\n",
    "rfmSegmentation['R_Class'] = pd.qcut(rfmSegmentation['recency'], q=5, labels=[1,2,3,4,5])\n",
    "rfmSegmentation['F_Class'] = rfmSegmentation['frequency'].apply(FClassMap)\n",
    "rfmSegmentation['M_Class'] = pd.qcut(rfmSegmentation['monetary_value'], q=5, labels=[1,2,3,4,5])\n",
    "\n",
    "rfmSegmentation"
   ]
  },
  {
   "cell_type": "markdown",
   "metadata": {},
   "source": [
    "### Membuat kelas RFM\n",
    "Kelas RFM ini adalah gabungan dari kategori Recency + kategori Frequency + kategori Monetary"
   ]
  },
  {
   "cell_type": "code",
   "execution_count": null,
   "metadata": {},
   "outputs": [],
   "source": [
    "rfmSegmentation['RFMClass'] = rfmSegmentation.R_Class.astype(str) \\\n",
    "                           + rfmSegmentation.F_Class.astype(str) \\\n",
    "                            + rfmSegmentation.M_Class.astype(str)\n",
    "rfmSegmentation"
   ]
  },
  {
   "cell_type": "markdown",
   "metadata": {},
   "source": [
    "## Data Visualization\n",
    "\n",
    "Kita akan mencoba membuat visualisasi data dari hasil pengolahan data di atas\n"
   ]
  },
  {
   "cell_type": "markdown",
   "metadata": {},
   "source": [
    "### Scatter plot \n",
    "\n",
    "kita akan coba melihat persebaran data berdasarkan recency, frequency, dan monetary value menggunakan scatter plot"
   ]
  },
  {
   "cell_type": "code",
   "execution_count": null,
   "metadata": {},
   "outputs": [],
   "source": [
    "sns.scatterplot(data=rfmSegmentation, x='recency', y='frequency', hue='monetary_value')"
   ]
  },
  {
   "cell_type": "markdown",
   "metadata": {},
   "source": [
    "### heat map kategori RFM"
   ]
  },
  {
   "cell_type": "code",
   "execution_count": null,
   "metadata": {},
   "outputs": [],
   "source": [
    "plotdata = rfmSegmentation.groupby(['F_Class', 'R_Class']).agg(['sum','count', 'mean'])['monetary_value']\n",
    "\n",
    "ax = sns.scatterplot(data=plotdata, x='R_Class', y='F_Class', size=plotdata['mean'].fillna(0), hue=plotdata['count'], sizes=(100, 400))\n",
    "sns.move_legend(ax, \"upper left\", bbox_to_anchor=(1, 1))"
   ]
  },
  {
   "cell_type": "markdown",
   "metadata": {},
   "source": [
    "## Filtering & Ekspor Data\n",
    "\n",
    "Pada bagian kali ini kita akan mencoba melakukan filtering dan ekspor data ke file exce.\n",
    "1. Kita mau ambil data dengan rfm class 555\n",
    "2. Ekspor ke file excel"
   ]
  },
  {
   "cell_type": "markdown",
   "metadata": {},
   "source": [
    "### Filter Data"
   ]
  },
  {
   "cell_type": "code",
   "execution_count": null,
   "metadata": {},
   "outputs": [],
   "source": [
    "filtered_data = rfmSegmentation.query(\"RFMClass == '555'\")\n",
    "filtered_data"
   ]
  },
  {
   "cell_type": "markdown",
   "metadata": {},
   "source": [
    "### Export to excel"
   ]
  },
  {
   "cell_type": "code",
   "execution_count": null,
   "metadata": {},
   "outputs": [],
   "source": [
    "filtered_data.to_excel(\"export/data_export.xlsx\", index=False)"
   ]
  }
 ],
 "metadata": {
  "kernelspec": {
   "display_name": "Python 3.10.6 ('venv': venv)",
   "language": "python",
   "name": "python3"
  },
  "language_info": {
   "codemirror_mode": {
    "name": "ipython",
    "version": 3
   },
   "file_extension": ".py",
   "mimetype": "text/x-python",
   "name": "python",
   "nbconvert_exporter": "python",
   "pygments_lexer": "ipython3",
   "version": "3.10.6"
  },
  "orig_nbformat": 4,
  "vscode": {
   "interpreter": {
    "hash": "46697289273e062eb3d95f7d29462da6e13de97d97c78b69e08456c50c2e0962"
   }
  }
 },
 "nbformat": 4,
 "nbformat_minor": 2
}
